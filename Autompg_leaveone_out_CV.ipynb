{
  "nbformat": 4,
  "nbformat_minor": 0,
  "metadata": {
    "colab": {
      "provenance": [],
      "authorship_tag": "ABX9TyNSAh1/DmNviGMct+HfHOGb",
      "include_colab_link": true
    },
    "kernelspec": {
      "name": "python3",
      "display_name": "Python 3"
    },
    "language_info": {
      "name": "python"
    }
  },
  "cells": [
    {
      "cell_type": "markdown",
      "metadata": {
        "id": "view-in-github",
        "colab_type": "text"
      },
      "source": [
        "<a href=\"https://colab.research.google.com/github/Chirag314/Autompg-leave-one-out/blob/main/Autompg_leaveone_out_CV.ipynb\" target=\"_parent\"><img src=\"https://colab.research.google.com/assets/colab-badge.svg\" alt=\"Open In Colab\"/></a>"
      ]
    },
    {
      "cell_type": "markdown",
      "source": [
        "###This notebook is copied from exercises from book Ensemble Machine Learning Cookbook."
      ],
      "metadata": {
        "id": "de3ggC8Kv_99"
      }
    },
    {
      "cell_type": "code",
      "source": [
        "#import required libraries\n",
        "from sklearn.linear_model import LinearRegression\n",
        "from sklearn.tree import DecisionTreeRegressor\n",
        "from sklearn.svm import SVR\n",
        "from sklearn.tree import DecisionTreeClassifier\n",
        "from sklearn.svm import SVC\n",
        "from sklearn.linear_model import LogisticRegression\n",
        "from sklearn.ensemble import VotingClassifier\n",
        "from sklearn.model_selection import KFold,LeaveOneOut\n",
        "from sklearn.metrics import mean_squared_error, r2_score\n",
        "import numpy as np\n",
        "import matplotlib.pyplot as plt"
      ],
      "metadata": {
        "id": "CWjW7ISB-O8s"
      },
      "execution_count": 1,
      "outputs": []
    },
    {
      "cell_type": "code",
      "execution_count": 2,
      "metadata": {
        "colab": {
          "base_uri": "https://localhost:8080/"
        },
        "id": "rror9ooAv2jU",
        "outputId": "1968b96e-2032-46c3-f9e8-445bfd2b9ffa"
      },
      "outputs": [
        {
          "output_type": "stream",
          "name": "stdout",
          "text": [
            "    mpg  cylinders  displacement  horsepower  weight  acceleration  \\\n",
            "0  18.0          8         307.0       130.0    3504          12.0   \n",
            "1  15.0          8         350.0       165.0    3693          11.5   \n",
            "2  18.0          8         318.0       150.0    3436          11.0   \n",
            "3  16.0          8         304.0       150.0    3433          12.0   \n",
            "4  17.0          8         302.0       140.0    3449          10.5   \n",
            "\n",
            "   model year  origin                    carname  \n",
            "0          70       1  chevrolet chevelle malibu  \n",
            "1          70       1          buick skylark 320  \n",
            "2          70       1         plymouth satellite  \n",
            "3          70       1              amc rebel sst  \n",
            "4          70       1                ford torino  \n"
          ]
        }
      ],
      "source": [
        "# Read data from github. Use raw format and copy url# Note normal url and raw url will be different.\n",
        "import pandas as pd\n",
        "pd.options.display.max_rows=None\n",
        "pd.options.display.max_columns=None\n",
        "url = 'https://raw.githubusercontent.com/PacktPublishing/Ensemble-Machine-Learning-Cookbook/master/Chapter03/autompg.csv'\n",
        "df_autodata = pd.read_csv(url)\n",
        "#df = pd.read_csv(url)\n",
        "print(df_autodata.head(5))"
      ]
    },
    {
      "cell_type": "code",
      "source": [
        "#Check the shape of data\n",
        "df_autodata.shape"
      ],
      "metadata": {
        "colab": {
          "base_uri": "https://localhost:8080/"
        },
        "id": "ZOITXNiM0fUc",
        "outputId": "8a73f3d0-13fe-41b8-f29d-55d44e71c40d"
      },
      "execution_count": 3,
      "outputs": [
        {
          "output_type": "execute_result",
          "data": {
            "text/plain": [
              "(398, 9)"
            ]
          },
          "metadata": {},
          "execution_count": 3
        }
      ]
    },
    {
      "cell_type": "code",
      "source": [
        "# Check for missing values.\n",
        "df_autodata.isnull().sum()"
      ],
      "metadata": {
        "colab": {
          "base_uri": "https://localhost:8080/"
        },
        "id": "G_9ncE1O0o2C",
        "outputId": "51708004-90b3-4acd-f9f8-a8c9f38ca6b1"
      },
      "execution_count": 4,
      "outputs": [
        {
          "output_type": "execute_result",
          "data": {
            "text/plain": [
              "mpg             0\n",
              "cylinders       0\n",
              "displacement    0\n",
              "horsepower      6\n",
              "weight          0\n",
              "acceleration    0\n",
              "model year      0\n",
              "origin          0\n",
              "carname         0\n",
              "dtype: int64"
            ]
          },
          "metadata": {},
          "execution_count": 4
        }
      ]
    },
    {
      "cell_type": "markdown",
      "source": [
        "#####Here, we can see that there are missing values in data. Impute missing values with median.Now separate predictor and response variable into two different dataframes"
      ],
      "metadata": {
        "id": "Fhig-YINwrKz"
      }
    },
    {
      "cell_type": "code",
      "source": [
        "df_autodata['horsepower'].fillna(df_autodata['horsepower'].median(),inplace=True)\n",
        "#Drop 'carname' variable\n",
        "df_autodata.drop(['carname'],axis=1,inplace=True)\n",
        "\n"
      ],
      "metadata": {
        "id": "GdZLFuST8u0v"
      },
      "execution_count": 5,
      "outputs": []
    },
    {
      "cell_type": "code",
      "source": [
        "# Create feature and response variables\n",
        "\n",
        "X=df_autodata.iloc[:,1:8]\n",
        "Y=df_autodata.iloc[:,0]\n",
        "X=np.array(X)\n",
        "Y=np.array(Y)\n"
      ],
      "metadata": {
        "id": "we5pulO209zv"
      },
      "execution_count": 6,
      "outputs": []
    },
    {
      "cell_type": "markdown",
      "source": [
        "#####We'll split the dataset into K consecutive folds (without shuffling by default) with K=10:"
      ],
      "metadata": {
        "id": "mJ_zbBTP6Pj0"
      }
    },
    {
      "cell_type": "code",
      "source": [
        "loocv = LeaveOneOut()\n",
        "loo_ytests = []\n",
        "loo_predictedvalues = []\n",
        "mean_mse = 0.0\n",
        "\n",
        "for train_index, test_index in loocv.split(X):\n",
        "    X_train, X_test = X[train_index], X[test_index] \n",
        "    Y_train, Y_test = Y[train_index], Y[test_index]\n",
        "    \n",
        "    model = LinearRegression()\n",
        "    model.fit(X_train, Y_train) \n",
        "    Y_pred = model.predict(X_test)\n",
        "        \n",
        "    # there is only one y-test and y-pred per iteration over the kfoldcv.split, \n",
        "    # so we append them to the respective lists.\n",
        "        \n",
        "    loo_ytests += list(Y_test)\n",
        "    loo_predictedvalues += list(Y_pred)\n",
        "    mse = mean_squared_error(loo_ytests, loo_predictedvalues)\n",
        "    r2score = r2_score(loo_ytests, loo_predictedvalues)\n",
        "    print(\"R^2: {:.2f}, MSE: {:.2f}\".format(r2score, mse))\n",
        "    mean_mse += mse   "
      ],
      "metadata": {
        "colab": {
          "base_uri": "https://localhost:8080/"
        },
        "id": "4h61m7Lu-YW3",
        "outputId": "81508347-35b1-444f-9022-676d7411e02d"
      },
      "execution_count": 7,
      "outputs": [
        {
          "output_type": "stream",
          "name": "stderr",
          "text": [
            "/usr/local/lib/python3.7/dist-packages/sklearn/metrics/_regression.py:796: UndefinedMetricWarning: R^2 score is not well-defined with less than two samples.\n",
            "  warnings.warn(msg, UndefinedMetricWarning)\n"
          ]
        },
        {
          "output_type": "stream",
          "name": "stdout",
          "text": [
            "R^2: nan, MSE: 9.37\n",
            "R^2: -1.28, MSE: 5.12\n",
            "R^2: -1.95, MSE: 5.90\n",
            "R^2: -1.73, MSE: 4.60\n",
            "R^2: -2.32, MSE: 4.51\n",
            "R^2: -3.47, MSE: 7.09\n",
            "R^2: -2.68, MSE: 7.82\n",
            "R^2: -2.52, MSE: 8.31\n",
            "R^2: -2.73, MSE: 9.12\n",
            "R^2: -2.82, MSE: 8.56\n",
            "R^2: -2.77, MSE: 7.80\n",
            "R^2: -2.44, MSE: 7.15\n",
            "R^2: -2.43, MSE: 6.61\n",
            "R^2: -3.75, MSE: 9.12\n",
            "R^2: -0.31, MSE: 8.51\n",
            "R^2: -0.03, MSE: 8.55\n",
            "R^2: -0.02, MSE: 8.17\n",
            "R^2: 0.11, MSE: 7.71\n",
            "R^2: 0.45, MSE: 7.43\n",
            "R^2: 0.57, MSE: 7.13\n",
            "R^2: 0.59, MSE: 7.58\n",
            "R^2: 0.61, MSE: 7.39\n",
            "R^2: 0.64, MSE: 7.29\n",
            "R^2: 0.66, MSE: 7.29\n",
            "R^2: 0.66, MSE: 7.02\n",
            "R^2: 0.70, MSE: 6.97\n",
            "R^2: 0.73, MSE: 6.80\n",
            "R^2: 0.74, MSE: 6.81\n",
            "R^2: 0.75, MSE: 6.82\n",
            "R^2: 0.78, MSE: 6.61\n",
            "R^2: 0.77, MSE: 7.11\n",
            "R^2: 0.78, MSE: 6.90\n",
            "R^2: 0.79, MSE: 6.71\n",
            "R^2: 0.79, MSE: 6.70\n",
            "R^2: 0.79, MSE: 6.51\n",
            "R^2: 0.79, MSE: 6.33\n",
            "R^2: 0.79, MSE: 6.21\n",
            "R^2: 0.79, MSE: 6.05\n",
            "R^2: 0.78, MSE: 6.07\n",
            "R^2: 0.78, MSE: 6.24\n",
            "R^2: 0.78, MSE: 6.18\n",
            "R^2: 0.78, MSE: 6.14\n",
            "R^2: 0.76, MSE: 6.66\n",
            "R^2: 0.75, MSE: 6.94\n",
            "R^2: 0.71, MSE: 7.96\n",
            "R^2: 0.71, MSE: 7.85\n",
            "R^2: 0.71, MSE: 7.70\n",
            "R^2: 0.71, MSE: 7.58\n",
            "R^2: 0.71, MSE: 7.44\n",
            "R^2: 0.71, MSE: 7.29\n",
            "R^2: 0.73, MSE: 7.31\n",
            "R^2: 0.74, MSE: 7.56\n",
            "R^2: 0.75, MSE: 7.86\n",
            "R^2: 0.77, MSE: 7.80\n",
            "R^2: 0.78, MSE: 8.18\n",
            "R^2: 0.79, MSE: 8.04\n",
            "R^2: 0.79, MSE: 7.90\n",
            "R^2: 0.79, MSE: 7.87\n",
            "R^2: 0.79, MSE: 7.74\n",
            "R^2: 0.79, MSE: 7.78\n",
            "R^2: 0.78, MSE: 7.87\n",
            "R^2: 0.78, MSE: 7.92\n",
            "R^2: 0.78, MSE: 7.82\n",
            "R^2: 0.78, MSE: 7.77\n",
            "R^2: 0.78, MSE: 7.76\n",
            "R^2: 0.78, MSE: 7.66\n",
            "R^2: 0.78, MSE: 7.60\n",
            "R^2: 0.79, MSE: 7.50\n",
            "R^2: 0.79, MSE: 7.48\n",
            "R^2: 0.79, MSE: 7.40\n",
            "R^2: 0.79, MSE: 7.33\n",
            "R^2: 0.78, MSE: 7.83\n",
            "R^2: 0.78, MSE: 7.75\n",
            "R^2: 0.78, MSE: 7.65\n",
            "R^2: 0.78, MSE: 7.58\n",
            "R^2: 0.78, MSE: 7.50\n",
            "R^2: 0.78, MSE: 7.48\n",
            "R^2: 0.78, MSE: 7.43\n",
            "R^2: 0.78, MSE: 7.34\n",
            "R^2: 0.79, MSE: 7.25\n",
            "R^2: 0.79, MSE: 7.17\n",
            "R^2: 0.79, MSE: 7.13\n",
            "R^2: 0.79, MSE: 7.08\n",
            "R^2: 0.79, MSE: 7.19\n",
            "R^2: 0.80, MSE: 7.11\n",
            "R^2: 0.80, MSE: 7.03\n",
            "R^2: 0.80, MSE: 6.99\n",
            "R^2: 0.80, MSE: 6.94\n",
            "R^2: 0.80, MSE: 6.86\n",
            "R^2: 0.80, MSE: 6.79\n",
            "R^2: 0.80, MSE: 6.82\n",
            "R^2: 0.80, MSE: 6.75\n",
            "R^2: 0.81, MSE: 6.69\n",
            "R^2: 0.81, MSE: 6.64\n",
            "R^2: 0.81, MSE: 6.65\n",
            "R^2: 0.81, MSE: 6.67\n",
            "R^2: 0.81, MSE: 6.67\n",
            "R^2: 0.81, MSE: 6.64\n",
            "R^2: 0.80, MSE: 6.70\n",
            "R^2: 0.80, MSE: 6.74\n",
            "R^2: 0.80, MSE: 6.78\n",
            "R^2: 0.80, MSE: 6.75\n",
            "R^2: 0.80, MSE: 6.76\n",
            "R^2: 0.80, MSE: 6.74\n",
            "R^2: 0.80, MSE: 6.75\n",
            "R^2: 0.80, MSE: 6.77\n",
            "R^2: 0.80, MSE: 6.72\n",
            "R^2: 0.79, MSE: 6.82\n",
            "R^2: 0.78, MSE: 7.25\n",
            "R^2: 0.78, MSE: 7.31\n",
            "R^2: 0.77, MSE: 7.43\n",
            "R^2: 0.75, MSE: 8.22\n",
            "R^2: 0.74, MSE: 8.44\n",
            "R^2: 0.74, MSE: 8.39\n",
            "R^2: 0.74, MSE: 8.32\n",
            "R^2: 0.74, MSE: 8.26\n",
            "R^2: 0.74, MSE: 8.31\n",
            "R^2: 0.74, MSE: 8.24\n",
            "R^2: 0.74, MSE: 8.24\n",
            "R^2: 0.74, MSE: 8.28\n",
            "R^2: 0.74, MSE: 8.27\n",
            "R^2: 0.74, MSE: 8.27\n",
            "R^2: 0.74, MSE: 8.22\n",
            "R^2: 0.74, MSE: 8.23\n",
            "R^2: 0.73, MSE: 8.40\n",
            "R^2: 0.73, MSE: 8.33\n",
            "R^2: 0.73, MSE: 8.28\n",
            "R^2: 0.73, MSE: 8.29\n",
            "R^2: 0.73, MSE: 8.41\n",
            "R^2: 0.74, MSE: 8.35\n",
            "R^2: 0.74, MSE: 8.31\n",
            "R^2: 0.75, MSE: 8.26\n",
            "R^2: 0.75, MSE: 8.20\n",
            "R^2: 0.75, MSE: 8.14\n",
            "R^2: 0.75, MSE: 8.11\n",
            "R^2: 0.75, MSE: 8.06\n",
            "R^2: 0.75, MSE: 8.04\n",
            "R^2: 0.75, MSE: 8.01\n",
            "R^2: 0.75, MSE: 7.99\n",
            "R^2: 0.75, MSE: 8.02\n",
            "R^2: 0.75, MSE: 7.97\n",
            "R^2: 0.76, MSE: 7.95\n",
            "R^2: 0.76, MSE: 7.93\n",
            "R^2: 0.76, MSE: 7.88\n",
            "R^2: 0.77, MSE: 7.83\n",
            "R^2: 0.77, MSE: 7.81\n",
            "R^2: 0.78, MSE: 7.79\n",
            "R^2: 0.78, MSE: 7.82\n",
            "R^2: 0.78, MSE: 7.77\n",
            "R^2: 0.78, MSE: 7.76\n",
            "R^2: 0.78, MSE: 7.72\n",
            "R^2: 0.78, MSE: 7.72\n",
            "R^2: 0.78, MSE: 7.69\n",
            "R^2: 0.78, MSE: 7.65\n",
            "R^2: 0.78, MSE: 7.82\n",
            "R^2: 0.77, MSE: 8.14\n",
            "R^2: 0.76, MSE: 8.18\n",
            "R^2: 0.76, MSE: 8.15\n",
            "R^2: 0.76, MSE: 8.18\n",
            "R^2: 0.76, MSE: 8.16\n",
            "R^2: 0.76, MSE: 8.11\n",
            "R^2: 0.76, MSE: 8.07\n",
            "R^2: 0.76, MSE: 8.08\n",
            "R^2: 0.76, MSE: 8.03\n",
            "R^2: 0.76, MSE: 7.99\n",
            "R^2: 0.76, MSE: 7.94\n",
            "R^2: 0.75, MSE: 8.29\n",
            "R^2: 0.76, MSE: 8.24\n",
            "R^2: 0.76, MSE: 8.20\n",
            "R^2: 0.75, MSE: 8.21\n",
            "R^2: 0.75, MSE: 8.17\n",
            "R^2: 0.76, MSE: 8.15\n",
            "R^2: 0.76, MSE: 8.14\n",
            "R^2: 0.75, MSE: 8.15\n",
            "R^2: 0.75, MSE: 8.16\n",
            "R^2: 0.76, MSE: 8.12\n",
            "R^2: 0.76, MSE: 8.10\n",
            "R^2: 0.76, MSE: 8.06\n",
            "R^2: 0.76, MSE: 8.02\n",
            "R^2: 0.76, MSE: 7.98\n",
            "R^2: 0.76, MSE: 7.93\n",
            "R^2: 0.77, MSE: 7.89\n",
            "R^2: 0.77, MSE: 7.86\n",
            "R^2: 0.77, MSE: 7.89\n",
            "R^2: 0.77, MSE: 7.85\n",
            "R^2: 0.77, MSE: 7.81\n",
            "R^2: 0.77, MSE: 7.78\n",
            "R^2: 0.77, MSE: 7.78\n",
            "R^2: 0.77, MSE: 7.75\n",
            "R^2: 0.77, MSE: 7.71\n",
            "R^2: 0.77, MSE: 7.68\n",
            "R^2: 0.77, MSE: 7.64\n",
            "R^2: 0.77, MSE: 7.61\n",
            "R^2: 0.77, MSE: 7.58\n",
            "R^2: 0.77, MSE: 7.54\n",
            "R^2: 0.78, MSE: 7.50\n",
            "R^2: 0.77, MSE: 7.53\n",
            "R^2: 0.78, MSE: 7.50\n",
            "R^2: 0.78, MSE: 7.46\n",
            "R^2: 0.78, MSE: 7.43\n",
            "R^2: 0.78, MSE: 7.42\n",
            "R^2: 0.78, MSE: 7.39\n",
            "R^2: 0.78, MSE: 7.48\n",
            "R^2: 0.78, MSE: 7.45\n",
            "R^2: 0.79, MSE: 7.42\n",
            "R^2: 0.79, MSE: 7.40\n",
            "R^2: 0.79, MSE: 7.38\n",
            "R^2: 0.79, MSE: 7.37\n",
            "R^2: 0.79, MSE: 7.40\n",
            "R^2: 0.79, MSE: 7.42\n",
            "R^2: 0.78, MSE: 7.55\n",
            "R^2: 0.78, MSE: 7.52\n",
            "R^2: 0.78, MSE: 7.52\n",
            "R^2: 0.78, MSE: 7.54\n",
            "R^2: 0.78, MSE: 7.59\n",
            "R^2: 0.78, MSE: 7.68\n",
            "R^2: 0.78, MSE: 7.65\n",
            "R^2: 0.78, MSE: 7.63\n",
            "R^2: 0.79, MSE: 7.67\n",
            "R^2: 0.79, MSE: 7.65\n",
            "R^2: 0.79, MSE: 7.62\n",
            "R^2: 0.79, MSE: 7.59\n",
            "R^2: 0.79, MSE: 7.56\n",
            "R^2: 0.79, MSE: 7.53\n",
            "R^2: 0.79, MSE: 7.49\n",
            "R^2: 0.79, MSE: 7.50\n",
            "R^2: 0.79, MSE: 7.47\n",
            "R^2: 0.79, MSE: 7.44\n",
            "R^2: 0.79, MSE: 7.44\n",
            "R^2: 0.79, MSE: 7.40\n",
            "R^2: 0.79, MSE: 7.37\n",
            "R^2: 0.79, MSE: 7.34\n",
            "R^2: 0.79, MSE: 7.31\n",
            "R^2: 0.80, MSE: 7.29\n",
            "R^2: 0.80, MSE: 7.27\n",
            "R^2: 0.79, MSE: 7.32\n",
            "R^2: 0.80, MSE: 7.29\n",
            "R^2: 0.80, MSE: 7.27\n",
            "R^2: 0.80, MSE: 7.35\n",
            "R^2: 0.80, MSE: 7.34\n",
            "R^2: 0.80, MSE: 7.31\n",
            "R^2: 0.80, MSE: 7.36\n",
            "R^2: 0.80, MSE: 7.43\n",
            "R^2: 0.79, MSE: 7.51\n",
            "R^2: 0.79, MSE: 7.99\n",
            "R^2: 0.80, MSE: 8.06\n",
            "R^2: 0.80, MSE: 8.03\n",
            "R^2: 0.80, MSE: 8.20\n",
            "R^2: 0.81, MSE: 8.18\n",
            "R^2: 0.80, MSE: 8.16\n",
            "R^2: 0.81, MSE: 8.13\n",
            "R^2: 0.81, MSE: 8.10\n",
            "R^2: 0.80, MSE: 8.08\n",
            "R^2: 0.80, MSE: 8.08\n",
            "R^2: 0.80, MSE: 8.12\n",
            "R^2: 0.80, MSE: 8.09\n",
            "R^2: 0.80, MSE: 8.06\n",
            "R^2: 0.80, MSE: 8.10\n",
            "R^2: 0.80, MSE: 8.07\n",
            "R^2: 0.80, MSE: 8.08\n",
            "R^2: 0.80, MSE: 8.06\n",
            "R^2: 0.80, MSE: 8.09\n",
            "R^2: 0.80, MSE: 8.08\n",
            "R^2: 0.80, MSE: 8.08\n",
            "R^2: 0.79, MSE: 8.14\n",
            "R^2: 0.80, MSE: 8.11\n",
            "R^2: 0.80, MSE: 8.08\n",
            "R^2: 0.80, MSE: 8.06\n",
            "R^2: 0.80, MSE: 8.08\n",
            "R^2: 0.80, MSE: 8.08\n",
            "R^2: 0.79, MSE: 8.32\n",
            "R^2: 0.79, MSE: 8.32\n",
            "R^2: 0.79, MSE: 8.29\n",
            "R^2: 0.79, MSE: 8.40\n",
            "R^2: 0.78, MSE: 8.48\n",
            "R^2: 0.78, MSE: 8.60\n",
            "R^2: 0.78, MSE: 8.64\n",
            "R^2: 0.78, MSE: 8.72\n",
            "R^2: 0.78, MSE: 8.68\n",
            "R^2: 0.78, MSE: 8.68\n",
            "R^2: 0.78, MSE: 8.66\n",
            "R^2: 0.78, MSE: 8.73\n",
            "R^2: 0.78, MSE: 8.74\n",
            "R^2: 0.78, MSE: 8.76\n",
            "R^2: 0.77, MSE: 8.75\n",
            "R^2: 0.77, MSE: 8.74\n",
            "R^2: 0.77, MSE: 8.74\n",
            "R^2: 0.77, MSE: 8.75\n",
            "R^2: 0.77, MSE: 8.73\n",
            "R^2: 0.77, MSE: 8.70\n",
            "R^2: 0.77, MSE: 8.71\n",
            "R^2: 0.77, MSE: 8.69\n",
            "R^2: 0.77, MSE: 8.67\n",
            "R^2: 0.78, MSE: 8.64\n",
            "R^2: 0.78, MSE: 8.61\n",
            "R^2: 0.78, MSE: 8.66\n",
            "R^2: 0.78, MSE: 8.63\n",
            "R^2: 0.78, MSE: 8.62\n",
            "R^2: 0.78, MSE: 8.61\n",
            "R^2: 0.78, MSE: 8.59\n",
            "R^2: 0.78, MSE: 8.56\n",
            "R^2: 0.78, MSE: 8.62\n",
            "R^2: 0.78, MSE: 8.67\n",
            "R^2: 0.79, MSE: 8.65\n",
            "R^2: 0.79, MSE: 8.76\n",
            "R^2: 0.79, MSE: 8.73\n",
            "R^2: 0.79, MSE: 8.73\n",
            "R^2: 0.79, MSE: 8.70\n",
            "R^2: 0.79, MSE: 8.80\n",
            "R^2: 0.79, MSE: 9.08\n",
            "R^2: 0.79, MSE: 9.09\n",
            "R^2: 0.79, MSE: 9.07\n",
            "R^2: 0.80, MSE: 9.07\n",
            "R^2: 0.80, MSE: 9.04\n",
            "R^2: 0.80, MSE: 9.01\n",
            "R^2: 0.80, MSE: 8.99\n",
            "R^2: 0.80, MSE: 9.04\n",
            "R^2: 0.80, MSE: 9.03\n",
            "R^2: 0.80, MSE: 9.00\n",
            "R^2: 0.80, MSE: 8.98\n",
            "R^2: 0.80, MSE: 9.05\n",
            "R^2: 0.80, MSE: 9.02\n",
            "R^2: 0.80, MSE: 9.53\n",
            "R^2: 0.80, MSE: 9.51\n",
            "R^2: 0.80, MSE: 9.64\n",
            "R^2: 0.80, MSE: 10.01\n",
            "R^2: 0.80, MSE: 10.44\n",
            "R^2: 0.79, MSE: 10.69\n",
            "R^2: 0.79, MSE: 10.71\n",
            "R^2: 0.79, MSE: 10.96\n",
            "R^2: 0.79, MSE: 11.10\n",
            "R^2: 0.80, MSE: 11.07\n",
            "R^2: 0.80, MSE: 11.09\n",
            "R^2: 0.80, MSE: 11.14\n",
            "R^2: 0.79, MSE: 11.26\n",
            "R^2: 0.79, MSE: 11.31\n",
            "R^2: 0.79, MSE: 11.29\n",
            "R^2: 0.79, MSE: 11.26\n",
            "R^2: 0.79, MSE: 11.24\n",
            "R^2: 0.79, MSE: 11.23\n",
            "R^2: 0.79, MSE: 11.22\n",
            "R^2: 0.79, MSE: 11.23\n",
            "R^2: 0.79, MSE: 11.19\n",
            "R^2: 0.80, MSE: 11.18\n",
            "R^2: 0.80, MSE: 11.26\n",
            "R^2: 0.80, MSE: 11.23\n",
            "R^2: 0.80, MSE: 11.22\n",
            "R^2: 0.80, MSE: 11.19\n",
            "R^2: 0.80, MSE: 11.19\n",
            "R^2: 0.80, MSE: 11.16\n",
            "R^2: 0.81, MSE: 11.17\n",
            "R^2: 0.81, MSE: 11.15\n",
            "R^2: 0.81, MSE: 11.12\n",
            "R^2: 0.81, MSE: 11.09\n",
            "R^2: 0.81, MSE: 11.09\n",
            "R^2: 0.81, MSE: 11.06\n",
            "R^2: 0.81, MSE: 11.03\n",
            "R^2: 0.81, MSE: 11.01\n",
            "R^2: 0.81, MSE: 10.98\n",
            "R^2: 0.81, MSE: 10.96\n",
            "R^2: 0.81, MSE: 10.99\n",
            "R^2: 0.81, MSE: 10.99\n",
            "R^2: 0.81, MSE: 11.00\n",
            "R^2: 0.81, MSE: 10.98\n",
            "R^2: 0.81, MSE: 10.98\n",
            "R^2: 0.81, MSE: 11.04\n",
            "R^2: 0.81, MSE: 11.12\n",
            "R^2: 0.81, MSE: 11.10\n",
            "R^2: 0.81, MSE: 11.08\n",
            "R^2: 0.81, MSE: 11.08\n",
            "R^2: 0.81, MSE: 11.06\n",
            "R^2: 0.81, MSE: 11.04\n",
            "R^2: 0.81, MSE: 11.02\n",
            "R^2: 0.81, MSE: 11.03\n",
            "R^2: 0.81, MSE: 11.05\n",
            "R^2: 0.81, MSE: 11.02\n",
            "R^2: 0.81, MSE: 11.00\n",
            "R^2: 0.81, MSE: 11.04\n",
            "R^2: 0.81, MSE: 11.10\n",
            "R^2: 0.81, MSE: 11.11\n",
            "R^2: 0.81, MSE: 11.09\n",
            "R^2: 0.81, MSE: 11.06\n",
            "R^2: 0.81, MSE: 11.04\n",
            "R^2: 0.82, MSE: 11.02\n",
            "R^2: 0.82, MSE: 11.03\n",
            "R^2: 0.82, MSE: 11.02\n",
            "R^2: 0.82, MSE: 11.00\n",
            "R^2: 0.81, MSE: 11.23\n",
            "R^2: 0.81, MSE: 11.24\n",
            "R^2: 0.81, MSE: 11.32\n",
            "R^2: 0.81, MSE: 11.29\n",
            "R^2: 0.81, MSE: 11.33\n",
            "R^2: 0.81, MSE: 11.31\n",
            "R^2: 0.81, MSE: 11.28\n",
            "R^2: 0.81, MSE: 11.50\n",
            "R^2: 0.81, MSE: 11.47\n",
            "R^2: 0.81, MSE: 11.45\n",
            "R^2: 0.81, MSE: 11.43\n"
          ]
        }
      ]
    },
    {
      "cell_type": "markdown",
      "source": [
        "We can look at our coefficient of determination using r2_score() and the mean squared error using mse():"
      ],
      "metadata": {
        "id": "DZfztI_tAFWj"
      }
    },
    {
      "cell_type": "code",
      "source": [
        "print(\"Average CV score :\",mean_mse/X.shape[0])"
      ],
      "metadata": {
        "id": "Co9qf7bqxDyn",
        "colab": {
          "base_uri": "https://localhost:8080/"
        },
        "outputId": "f6ffca84-d1cd-46ff-b115-6e6a05f339da"
      },
      "execution_count": 8,
      "outputs": [
        {
          "output_type": "stream",
          "name": "stdout",
          "text": [
            "Average CV score : 8.401498720470839\n"
          ]
        }
      ]
    },
    {
      "cell_type": "code",
      "source": [
        "## Let us plot the model\n",
        "plt.scatter(loo_ytests, loo_predictedvalues)\n",
        "plt.xlabel('Reported mpg')\n",
        "plt.ylabel('Predicted mpg')"
      ],
      "metadata": {
        "colab": {
          "base_uri": "https://localhost:8080/",
          "height": 296
        },
        "id": "dq9Urdj81UvE",
        "outputId": "f0f347e8-e2d3-42db-bed9-fe1633043644"
      },
      "execution_count": 9,
      "outputs": [
        {
          "output_type": "execute_result",
          "data": {
            "text/plain": [
              "Text(0, 0.5, 'Predicted mpg')"
            ]
          },
          "metadata": {},
          "execution_count": 9
        },
        {
          "output_type": "display_data",
          "data": {
            "text/plain": [
              "<Figure size 432x288 with 1 Axes>"
            ],
            "image/png": "[encoded data removed]"
          },
          "metadata": {
            "needs_background": "light"
          }
        }
      ]
    }
  ]
}